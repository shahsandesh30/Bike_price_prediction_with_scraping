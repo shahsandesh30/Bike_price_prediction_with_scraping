{
 "cells": [
  {
   "cell_type": "code",
   "execution_count": 1,
   "metadata": {},
   "outputs": [],
   "source": [
    "import pandas as pd\n",
    "import numpy as np"
   ]
  },
  {
   "cell_type": "code",
   "execution_count": 2,
   "metadata": {},
   "outputs": [],
   "source": [
    "df = pd.read_csv('bike_specs.csv')"
   ]
  },
  {
   "cell_type": "code",
   "execution_count": 3,
   "metadata": {},
   "outputs": [
    {
     "data": {
      "text/html": [
       "<div>\n",
       "<style scoped>\n",
       "    .dataframe tbody tr th:only-of-type {\n",
       "        vertical-align: middle;\n",
       "    }\n",
       "\n",
       "    .dataframe tbody tr th {\n",
       "        vertical-align: top;\n",
       "    }\n",
       "\n",
       "    .dataframe thead th {\n",
       "        text-align: right;\n",
       "    }\n",
       "</style>\n",
       "<table border=\"1\" class=\"dataframe\">\n",
       "  <thead>\n",
       "    <tr style=\"text-align: right;\">\n",
       "      <th></th>\n",
       "      <th>Engine_Capacity</th>\n",
       "      <th>Max_Power</th>\n",
       "      <th>Mileage</th>\n",
       "      <th>Starting_Mechanism</th>\n",
       "      <th>Ignition</th>\n",
       "      <th>Gears</th>\n",
       "      <th>Price</th>\n",
       "    </tr>\n",
       "  </thead>\n",
       "  <tbody>\n",
       "    <tr>\n",
       "      <td>0</td>\n",
       "      <td>1380.0 CC</td>\n",
       "      <td>96.60 bhp @ 6500 rpm</td>\n",
       "      <td>15 Km/l</td>\n",
       "      <td>Self Start</td>\n",
       "      <td>Fuel Injection</td>\n",
       "      <td>6 Speed</td>\n",
       "      <td>2778000</td>\n",
       "    </tr>\n",
       "    <tr>\n",
       "      <td>1</td>\n",
       "      <td>1745.0 CC</td>\n",
       "      <td>65.00 bhp @ 5500 rpm</td>\n",
       "      <td>15 Km/l</td>\n",
       "      <td>Self Start</td>\n",
       "      <td>Electronic Sequential Port Fuel Injection (ESPFI)</td>\n",
       "      <td>6 Speed</td>\n",
       "      <td>3053000</td>\n",
       "    </tr>\n",
       "    <tr>\n",
       "      <td>2</td>\n",
       "      <td>1811.0 CC</td>\n",
       "      <td>100.00 bhp @ 3000 rpm</td>\n",
       "      <td>20 Km/l</td>\n",
       "      <td>Self Start</td>\n",
       "      <td>Closed Loop Fuel Injection</td>\n",
       "      <td>6 Speed</td>\n",
       "      <td>3201000</td>\n",
       "    </tr>\n",
       "    <tr>\n",
       "      <td>3</td>\n",
       "      <td>1745.0 CC</td>\n",
       "      <td>NaN</td>\n",
       "      <td>15 Km/l</td>\n",
       "      <td>Self Start</td>\n",
       "      <td>Electronic Sequential Port Fuel Injection (ESPFI)</td>\n",
       "      <td>6 Speed</td>\n",
       "      <td>3299000</td>\n",
       "    </tr>\n",
       "    <tr>\n",
       "      <td>4</td>\n",
       "      <td>1811.0 CC</td>\n",
       "      <td>100.00 bhp @ 8000 rpm</td>\n",
       "      <td>14 Km/l</td>\n",
       "      <td>Self Start</td>\n",
       "      <td>Closed Loop Fuel Injection</td>\n",
       "      <td>6 Speed</td>\n",
       "      <td>3350000</td>\n",
       "    </tr>\n",
       "  </tbody>\n",
       "</table>\n",
       "</div>"
      ],
      "text/plain": [
       "  Engine_Capacity              Max_Power  Mileage Starting_Mechanism  \\\n",
       "0       1380.0 CC   96.60 bhp @ 6500 rpm  15 Km/l         Self Start   \n",
       "1       1745.0 CC   65.00 bhp @ 5500 rpm  15 Km/l         Self Start   \n",
       "2       1811.0 CC  100.00 bhp @ 3000 rpm  20 Km/l         Self Start   \n",
       "3       1745.0 CC                    NaN  15 Km/l         Self Start   \n",
       "4       1811.0 CC  100.00 bhp @ 8000 rpm  14 Km/l         Self Start   \n",
       "\n",
       "                                            Ignition    Gears    Price  \n",
       "0                                     Fuel Injection  6 Speed  2778000  \n",
       "1  Electronic Sequential Port Fuel Injection (ESPFI)  6 Speed  3053000  \n",
       "2                         Closed Loop Fuel Injection  6 Speed  3201000  \n",
       "3  Electronic Sequential Port Fuel Injection (ESPFI)  6 Speed  3299000  \n",
       "4                         Closed Loop Fuel Injection  6 Speed  3350000  "
      ]
     },
     "execution_count": 3,
     "metadata": {},
     "output_type": "execute_result"
    }
   ],
   "source": [
    "df.head()"
   ]
  },
  {
   "cell_type": "code",
   "execution_count": 4,
   "metadata": {},
   "outputs": [
    {
     "name": "stdout",
     "output_type": "stream",
     "text": [
      "<class 'pandas.core.frame.DataFrame'>\n",
      "RangeIndex: 13 entries, 0 to 12\n",
      "Data columns (total 7 columns):\n",
      "Engine_Capacity       13 non-null object\n",
      "Max_Power             10 non-null object\n",
      "Mileage               13 non-null object\n",
      "Starting_Mechanism    13 non-null object\n",
      "Ignition              13 non-null object\n",
      "Gears                 13 non-null object\n",
      "Price                 13 non-null int64\n",
      "dtypes: int64(1), object(6)\n",
      "memory usage: 856.0+ bytes\n"
     ]
    }
   ],
   "source": [
    "df.info()"
   ]
  },
  {
   "cell_type": "code",
   "execution_count": 5,
   "metadata": {},
   "outputs": [],
   "source": [
    "# Replace nan values with most repeated values\n",
    "Max_power_list = np.array(df['Max_Power'].value_counts().index.tolist())\n",
    "most_repeated = Max_power_list[0]\n",
    "df['Max_Power'] = df['Max_Power'].mask(df['Max_Power'].isna(), most_repeated)"
   ]
  },
  {
   "cell_type": "code",
   "execution_count": 6,
   "metadata": {},
   "outputs": [],
   "source": [
    "# Removing unnecessary texts\n",
    "df['Engine_Capacity'] = df['Engine_Capacity'].map(lambda x: x.replace('CC',''))\n",
    "df['Max_Power'] = df['Max_Power'].map(lambda x: x.split('@'))\n",
    "df['bhp'] = df['Max_Power'].map(lambda x: x[0].replace('bhp',''))\n",
    "df['rmp'] = df['Max_Power'].map(lambda x: x[1].replace('rpm',''))\n",
    "df['Mileage'] = df['Mileage'].map(lambda x: x.replace('Km/l', ''))"
   ]
  },
  {
   "cell_type": "code",
   "execution_count": 7,
   "metadata": {},
   "outputs": [],
   "source": [
    "#replacing empty string with nan and remove it\n",
    "df = df.replace(r'^\\s*$', np.nan, regex=True)\n",
    "df.dropna(inplace=True)"
   ]
  },
  {
   "cell_type": "code",
   "execution_count": 8,
   "metadata": {},
   "outputs": [
    {
     "data": {
      "text/plain": [
       "Closed Loop Fuel Injection                           4\n",
       "Fuel Injection                                       3\n",
       "Electronic Sequential Port Fuel Injection (ESPFI)    3\n",
       "Mitsubishi Electronic Fuel Injection System          1\n",
       "Fuel injection: ø50 mm x 4 with dual injection       1\n",
       "Name: Ignition, dtype: int64"
      ]
     },
     "execution_count": 8,
     "metadata": {},
     "output_type": "execute_result"
    }
   ],
   "source": [
    "df['Ignition'].value_counts()"
   ]
  },
  {
   "cell_type": "code",
   "execution_count": 9,
   "metadata": {},
   "outputs": [],
   "source": [
    "# Replace least repeated values with most repeated values\n",
    "Ignition_list = np.array(df['Ignition'].value_counts().index.tolist())\n",
    "most_repeated = Ignition_list[0]\n",
    "least_repeated = df['Ignition'].value_counts().values < 2\n",
    "least_repeated = Ignition_list[least_repeated]\n",
    "df['Ignition'] = df['Ignition'].map(lambda x: most_repeated if x in list(least_repeated) else x)"
   ]
  },
  {
   "cell_type": "code",
   "execution_count": 10,
   "metadata": {},
   "outputs": [],
   "source": [
    "#Getting dummies value for Ignition col\n",
    "ign_df = pd.get_dummies(df['Ignition'], drop_first=True)\n",
    "df = pd.concat([df, ign_df], axis=1)"
   ]
  },
  {
   "cell_type": "code",
   "execution_count": 11,
   "metadata": {},
   "outputs": [
    {
     "data": {
      "text/html": [
       "<div>\n",
       "<style scoped>\n",
       "    .dataframe tbody tr th:only-of-type {\n",
       "        vertical-align: middle;\n",
       "    }\n",
       "\n",
       "    .dataframe tbody tr th {\n",
       "        vertical-align: top;\n",
       "    }\n",
       "\n",
       "    .dataframe thead th {\n",
       "        text-align: right;\n",
       "    }\n",
       "</style>\n",
       "<table border=\"1\" class=\"dataframe\">\n",
       "  <thead>\n",
       "    <tr style=\"text-align: right;\">\n",
       "      <th></th>\n",
       "      <th>Engine_Capacity</th>\n",
       "      <th>Max_Power</th>\n",
       "      <th>Mileage</th>\n",
       "      <th>Starting_Mechanism</th>\n",
       "      <th>Ignition</th>\n",
       "      <th>Gears</th>\n",
       "      <th>Price</th>\n",
       "      <th>bhp</th>\n",
       "      <th>rmp</th>\n",
       "      <th>Electronic Sequential Port Fuel Injection (ESPFI)</th>\n",
       "      <th>Fuel Injection</th>\n",
       "    </tr>\n",
       "  </thead>\n",
       "  <tbody>\n",
       "    <tr>\n",
       "      <td>0</td>\n",
       "      <td>1380.0</td>\n",
       "      <td>[96.60 bhp ,  6500 rpm]</td>\n",
       "      <td>15</td>\n",
       "      <td>Self Start</td>\n",
       "      <td>Fuel Injection</td>\n",
       "      <td>6 Speed</td>\n",
       "      <td>2778000</td>\n",
       "      <td>96.60</td>\n",
       "      <td>6500</td>\n",
       "      <td>0</td>\n",
       "      <td>1</td>\n",
       "    </tr>\n",
       "    <tr>\n",
       "      <td>1</td>\n",
       "      <td>1745.0</td>\n",
       "      <td>[65.00 bhp ,  5500 rpm]</td>\n",
       "      <td>15</td>\n",
       "      <td>Self Start</td>\n",
       "      <td>Electronic Sequential Port Fuel Injection (ESPFI)</td>\n",
       "      <td>6 Speed</td>\n",
       "      <td>3053000</td>\n",
       "      <td>65.00</td>\n",
       "      <td>5500</td>\n",
       "      <td>1</td>\n",
       "      <td>0</td>\n",
       "    </tr>\n",
       "    <tr>\n",
       "      <td>2</td>\n",
       "      <td>1811.0</td>\n",
       "      <td>[100.00 bhp ,  3000 rpm]</td>\n",
       "      <td>20</td>\n",
       "      <td>Self Start</td>\n",
       "      <td>Closed Loop Fuel Injection</td>\n",
       "      <td>6 Speed</td>\n",
       "      <td>3201000</td>\n",
       "      <td>100.00</td>\n",
       "      <td>3000</td>\n",
       "      <td>0</td>\n",
       "      <td>0</td>\n",
       "    </tr>\n",
       "    <tr>\n",
       "      <td>3</td>\n",
       "      <td>1745.0</td>\n",
       "      <td>[100.00 bhp ,  3000 rpm]</td>\n",
       "      <td>15</td>\n",
       "      <td>Self Start</td>\n",
       "      <td>Electronic Sequential Port Fuel Injection (ESPFI)</td>\n",
       "      <td>6 Speed</td>\n",
       "      <td>3299000</td>\n",
       "      <td>100.00</td>\n",
       "      <td>3000</td>\n",
       "      <td>1</td>\n",
       "      <td>0</td>\n",
       "    </tr>\n",
       "    <tr>\n",
       "      <td>4</td>\n",
       "      <td>1811.0</td>\n",
       "      <td>[100.00 bhp ,  8000 rpm]</td>\n",
       "      <td>14</td>\n",
       "      <td>Self Start</td>\n",
       "      <td>Closed Loop Fuel Injection</td>\n",
       "      <td>6 Speed</td>\n",
       "      <td>3350000</td>\n",
       "      <td>100.00</td>\n",
       "      <td>8000</td>\n",
       "      <td>0</td>\n",
       "      <td>0</td>\n",
       "    </tr>\n",
       "  </tbody>\n",
       "</table>\n",
       "</div>"
      ],
      "text/plain": [
       "  Engine_Capacity                 Max_Power Mileage Starting_Mechanism  \\\n",
       "0         1380.0    [96.60 bhp ,  6500 rpm]     15          Self Start   \n",
       "1         1745.0    [65.00 bhp ,  5500 rpm]     15          Self Start   \n",
       "2         1811.0   [100.00 bhp ,  3000 rpm]     20          Self Start   \n",
       "3         1745.0   [100.00 bhp ,  3000 rpm]     15          Self Start   \n",
       "4         1811.0   [100.00 bhp ,  8000 rpm]     14          Self Start   \n",
       "\n",
       "                                            Ignition    Gears    Price  \\\n",
       "0                                     Fuel Injection  6 Speed  2778000   \n",
       "1  Electronic Sequential Port Fuel Injection (ESPFI)  6 Speed  3053000   \n",
       "2                         Closed Loop Fuel Injection  6 Speed  3201000   \n",
       "3  Electronic Sequential Port Fuel Injection (ESPFI)  6 Speed  3299000   \n",
       "4                         Closed Loop Fuel Injection  6 Speed  3350000   \n",
       "\n",
       "        bhp     rmp  Electronic Sequential Port Fuel Injection (ESPFI)  \\\n",
       "0   96.60     6500                                                   0   \n",
       "1   65.00     5500                                                   1   \n",
       "2  100.00     3000                                                   0   \n",
       "3  100.00     3000                                                   1   \n",
       "4  100.00     8000                                                   0   \n",
       "\n",
       "   Fuel Injection  \n",
       "0               1  \n",
       "1               0  \n",
       "2               0  \n",
       "3               0  \n",
       "4               0  "
      ]
     },
     "execution_count": 11,
     "metadata": {},
     "output_type": "execute_result"
    }
   ],
   "source": [
    "df.head()"
   ]
  },
  {
   "cell_type": "code",
   "execution_count": 12,
   "metadata": {},
   "outputs": [],
   "source": [
    "# dropping unnecessary columns\n",
    "drop_cols = ['Max_Power', 'Starting_Mechanism', 'Ignition', 'Gears']\n",
    "df = df.drop(drop_cols, axis=1)"
   ]
  },
  {
   "cell_type": "code",
   "execution_count": 13,
   "metadata": {},
   "outputs": [
    {
     "data": {
      "text/plain": [
       "Engine_Capacity                                      object\n",
       "Mileage                                              object\n",
       "Price                                                 int64\n",
       "bhp                                                  object\n",
       "rmp                                                  object\n",
       "Electronic Sequential Port Fuel Injection (ESPFI)     uint8\n",
       "Fuel Injection                                        uint8\n",
       "dtype: object"
      ]
     },
     "execution_count": 13,
     "metadata": {},
     "output_type": "execute_result"
    }
   ],
   "source": [
    "df.dtypes"
   ]
  },
  {
   "cell_type": "code",
   "execution_count": 14,
   "metadata": {},
   "outputs": [],
   "source": [
    "# Converting datatypes into float\n",
    "df['Engine_Capacity'] = df['Engine_Capacity'].map(lambda x: float(x))\n",
    "df['Mileage'] = df['Mileage'].map(lambda x: float(x))\n",
    "df['bhp'] = df['bhp'].map(lambda x: float(x))\n",
    "df['rmp'] = df['rmp'].map(lambda x: float(x))"
   ]
  },
  {
   "cell_type": "code",
   "execution_count": null,
   "metadata": {},
   "outputs": [],
   "source": []
  },
  {
   "cell_type": "code",
   "execution_count": 15,
   "metadata": {},
   "outputs": [],
   "source": [
    "from sklearn.linear_model import LinearRegression\n",
    "from sklearn.model_selection import train_test_split"
   ]
  },
  {
   "cell_type": "code",
   "execution_count": 16,
   "metadata": {},
   "outputs": [],
   "source": [
    "# Dependent and independent value\n",
    "X = df.drop(['Price'], axis=1).values\n",
    "y = df['Price'].values"
   ]
  },
  {
   "cell_type": "code",
   "execution_count": 17,
   "metadata": {},
   "outputs": [],
   "source": [
    "X_train, X_test, y_train, y_test = train_test_split(X, y, test_size=0.2, random_state=6)"
   ]
  },
  {
   "cell_type": "code",
   "execution_count": 18,
   "metadata": {},
   "outputs": [
    {
     "data": {
      "text/plain": [
       "LinearRegression()"
      ]
     },
     "execution_count": 18,
     "metadata": {},
     "output_type": "execute_result"
    }
   ],
   "source": [
    "# Linear model\n",
    "model = LinearRegression()\n",
    "model.fit(X_train, y_train)"
   ]
  },
  {
   "cell_type": "code",
   "execution_count": 19,
   "metadata": {},
   "outputs": [
    {
     "data": {
      "text/plain": [
       "0.7326334010388762"
      ]
     },
     "execution_count": 19,
     "metadata": {},
     "output_type": "execute_result"
    }
   ],
   "source": [
    "model.score(X_test, y_test)  "
   ]
  },
  {
   "cell_type": "code",
   "execution_count": null,
   "metadata": {},
   "outputs": [],
   "source": []
  }
 ],
 "metadata": {
  "kernelspec": {
   "display_name": "Python 3",
   "language": "python",
   "name": "python3"
  },
  "language_info": {
   "codemirror_mode": {
    "name": "ipython",
    "version": 3
   },
   "file_extension": ".py",
   "mimetype": "text/x-python",
   "name": "python",
   "nbconvert_exporter": "python",
   "pygments_lexer": "ipython3",
   "version": "3.7.4"
  }
 },
 "nbformat": 4,
 "nbformat_minor": 2
}
